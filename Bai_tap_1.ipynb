{
  "nbformat": 4,
  "nbformat_minor": 0,
  "metadata": {
    "colab": {
      "provenance": [],
      "authorship_tag": "ABX9TyMOAXkZvP7nLwfU0yPkMEi/",
      "include_colab_link": true
    },
    "kernelspec": {
      "name": "python3",
      "display_name": "Python 3"
    },
    "language_info": {
      "name": "python"
    }
  },
  "cells": [
    {
      "cell_type": "markdown",
      "metadata": {
        "id": "view-in-github",
        "colab_type": "text"
      },
      "source": [
        "<a href=\"https://colab.research.google.com/github/hungpx2008/Python-learning/blob/main/Bai_tap_1.ipynb\" target=\"_parent\"><img src=\"https://colab.research.google.com/assets/colab-badge.svg\" alt=\"Open In Colab\"/></a>"
      ]
    },
    {
      "cell_type": "code",
      "execution_count": 4,
      "metadata": {
        "id": "nVKVL2sk5M8Y"
      },
      "outputs": [],
      "source": [
        "def danh_gia_Classification_F1Score(tp,fp,fn):\n",
        "    if not (isinstance(tp,int) and isinstance(fp,int) and isinstance(fn,int)):\n",
        "        raise TypeError(\"tp,fp,và fn phải là một số nguyên\")\n",
        "    if tp<=0 or fp <=0 or fn<=0:\n",
        "        raise ValueError(\"tp,fp,và fn phải lớn hơn 0\")\n",
        "    raise ValueError(\"tp,fp,và fn phải lớn hơn 0\")\n",
        "    try:\n",
        "      precision = tp/(tp+fp)\n",
        "      recall = tp/(tp+fn)\n",
        "      f1_score = 2 * precision * recall / (precision + recall)\n",
        "    except ZerodivisionError:\n",
        "      raise ZeroDivisionError(\"Không thể tính F1-score khi precision hoặc recall bằng 0\");\n",
        "    print(f\"Precision: {precision:.2f}\")\n",
        "    print(f\"Recall: {recall:.2f}\")\n",
        "    print(f\"F1-score: {f1_score:.2f}\")"
      ]
    },
    {
      "cell_type": "code",
      "source": [
        "def check_number (x):\n",
        "  try:\n",
        "    float(x)\n",
        "    return True\n",
        "  except ValueError:\n",
        "    return False\n",
        ""
      ],
      "metadata": {
        "id": "fqzr7t2o6mPb"
      },
      "execution_count": 43,
      "outputs": []
    },
    {
      "cell_type": "code",
      "source": [
        "def check_funtion (y):\n",
        "  try:\n",
        "    if (y == \"e\" or y ==\"s\" or y ==\"r\"):\n",
        "      return True\n",
        "  except ValueError:\n",
        "      return False\n"
      ],
      "metadata": {
        "id": "C-rXeouCKtmw"
      },
      "execution_count": 45,
      "outputs": []
    },
    {
      "cell_type": "code",
      "source": [
        "import math\n",
        "def sigmoid(x):\n",
        "  return 1 / (1 + math.exp(-x))\n",
        "def ReLU(x):\n",
        "  if x<=0:\n",
        "    x=0\n",
        "  else:\n",
        "   return x;\n",
        "def eLU(x):\n",
        "  alpha= input(\"Nhập anpha: \")\n",
        "  try:\n",
        "    float(alpha)\n",
        "    return True\n",
        "  except ValueError:\n",
        "    return False\n",
        "  while True:\n",
        "    if x<=0:\n",
        "      x= alpha*(math.exp(x)-1);\n",
        "    else:\n",
        "      return x;\n",
        "  else:\n",
        "    print(\"Alpha phải ở dạng số.Vui lòng nhập lại\")\n",
        ""
      ],
      "metadata": {
        "id": "ZpNC5JpMM7u1"
      },
      "execution_count": 38,
      "outputs": []
    },
    {
      "cell_type": "code",
      "source": [
        "while True:\n",
        "  x= input(\"Nhập giá trị x:\")\n",
        "  if check_number(x):\n",
        "    break\n",
        "  else:\n",
        "    print(\" Giá trị nhập phải là số. Vui lòng nhập lại\");\n",
        "while True:\n",
        "  y= input(\"Nhập giá trị y:\")\n",
        "  if check_funtion (y):\n",
        "    break\n",
        "  else:\n",
        "    print(\"Chỉ được nhập các ký tự (s,r,e).Vui lòng nhập lại\");\n",
        "if y==\"s\":\n",
        "  print(\"Kết quả sigmoid:\",sigmoid(x))\n",
        "elif y==\"e\":\n",
        "  print(\"Kết quả eLU:\",eLU(x))\n",
        "else:\n",
        "  print(\"Kết quả ReLU:\",ReLU(x))\n"
      ],
      "metadata": {
        "id": "iTGr8jnCSHTX"
      },
      "execution_count": null,
      "outputs": []
    }
  ]
}