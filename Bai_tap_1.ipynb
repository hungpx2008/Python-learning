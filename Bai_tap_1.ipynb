{
  "nbformat": 4,
  "nbformat_minor": 0,
  "metadata": {
    "colab": {
      "provenance": [],
      "authorship_tag": "ABX9TyPVWaqKCeK6B841Pw2oeJix",
      "include_colab_link": true
    },
    "kernelspec": {
      "name": "python3",
      "display_name": "Python 3"
    },
    "language_info": {
      "name": "python"
    }
  },
  "cells": [
    {
      "cell_type": "markdown",
      "metadata": {
        "id": "view-in-github",
        "colab_type": "text"
      },
      "source": [
        "<a href=\"https://colab.research.google.com/github/hungpx2008/Python-learning/blob/B%C3%A0i-t%E1%BA%ADp-AIO/Bai_tap_1.ipynb\" target=\"_parent\"><img src=\"https://colab.research.google.com/assets/colab-badge.svg\" alt=\"Open In Colab\"/></a>"
      ]
    },
    {
      "cell_type": "code",
      "execution_count": 1,
      "metadata": {
        "id": "nVKVL2sk5M8Y"
      },
      "outputs": [],
      "source": [
        "#1.Viết function thực hiện đánh giá classification model bằng F1-Score.\n",
        "def danh_gia_Classification_F1Score(tp,fp,fn):\n",
        "    if not (isinstance(tp,int) and isinstance(fp,int) and isinstance(fn,int)):\n",
        "        raise TypeError(\"tp,fp,và fn phải là một số nguyên\")\n",
        "    if tp<=0 or fp <=0 or fn<=0:\n",
        "        raise ValueError(\"tp,fp,và fn phải lớn hơn 0\")\n",
        "    raise ValueError(\"tp,fp,và fn phải lớn hơn 0\")\n",
        "    try:\n",
        "      precision = tp/(tp+fp)\n",
        "      recall = tp/(tp+fn)\n",
        "      f1_score = 2 * precision * recall / (precision + recall)\n",
        "    except ZerodivisionError:\n",
        "      raise ZeroDivisionError(\"Không thể tính F1-score khi precision hoặc recall bằng 0\");\n",
        "    print(f\"Precision: {precision:.2f}\")\n",
        "    print(f\"Recall: {recall:.2f}\")\n",
        "    print(f\"F1-score: {f1_score:.2f}\")"
      ]
    },
    {
      "cell_type": "code",
      "source": [
        "#2.Viết function mô phỏng theo 3 activation function.\n",
        "def check_number (x):\n",
        "  try:\n",
        "    float(x)\n",
        "    return True\n",
        "  except ValueError:\n",
        "    return False\n"
      ],
      "metadata": {
        "id": "fqzr7t2o6mPb"
      },
      "execution_count": 2,
      "outputs": []
    },
    {
      "cell_type": "code",
      "source": [
        "def check_funtion (y):\n",
        "  try:\n",
        "    if (y == \"e\" or y ==\"s\" or y ==\"r\"):\n",
        "      return True\n",
        "  except ValueError:\n",
        "      return False\n"
      ],
      "metadata": {
        "id": "C-rXeouCKtmw"
      },
      "execution_count": 3,
      "outputs": []
    },
    {
      "cell_type": "code",
      "source": [
        "import math\n",
        "def sigmoid(x):\n",
        "  return 1/(1+(math.e)**(-float(x)));\n",
        "def ReLU(x):\n",
        "  if float(x)<=0:\n",
        "   return 0\n",
        "  else:\n",
        "   return float(x);\n",
        "def eLU(x):\n",
        "  while True:\n",
        "        try:\n",
        "            alpha = float(input(\"Nhập alpha: \"))\n",
        "            break\n",
        "        except ValueError:\n",
        "            print(\"Alpha phải ở dạng số . Vui lòng nhập lại.\")\n",
        "\n",
        "  try:\n",
        "      x = float(x)\n",
        "  except ValueError:\n",
        "      print(\"Giá trị x phải ở dạng số.\")\n",
        "      return False\n",
        "  if x <= 0:\n",
        "      return alpha * (math.exp(x) - 1)\n",
        "  else:\n",
        "      return x\n",
        "\n",
        "\n"
      ],
      "metadata": {
        "id": "ZpNC5JpMM7u1"
      },
      "execution_count": 4,
      "outputs": []
    },
    {
      "cell_type": "code",
      "source": [
        "while True:\n",
        "  x= input(\"Nhập giá trị x:\")\n",
        "  if check_number(x):\n",
        "    break\n",
        "  else:\n",
        "    print(\" Giá trị nhập phải là số. Vui lòng nhập lại\");\n",
        "while True:\n",
        "  y= input(\"Nhập giá trị y:\")\n",
        "  if check_funtion (y):\n",
        "    if y==\"s\":\n",
        "      print(\"Kết quả sigmoid:\",sigmoid(x))\n",
        "      break\n",
        "    elif y==\"e\":\n",
        "      print(\"Kết quả eLU:\",eLU(x))\n",
        "      break\n",
        "    else:\n",
        "      print(\"Kết quả ReLU:\",ReLU(x))\n",
        "      break\n",
        "  else:\n",
        "      print(\"Chỉ được nhập các ký tự (s,r,e).Vui lòng nhập lại\");"
      ],
      "metadata": {
        "colab": {
          "base_uri": "https://localhost:8080/"
        },
        "id": "iTGr8jnCSHTX",
        "outputId": "34bd54b6-41a0-4a4d-effd-c8eee5dffd8d"
      },
      "execution_count": 5,
      "outputs": [
        {
          "output_type": "stream",
          "name": "stdout",
          "text": [
            "Nhập giá trị x:3\n",
            "Nhập giá trị y:e\n",
            "Nhập alpha: 2\n",
            "Kết quả eLU: 3.0\n"
          ]
        }
      ]
    },
    {
      "cell_type": "code",
      "source": [
        "# 3.Viết function lựa chọn regression loss function để tính loss:\n",
        "import random\n",
        "def MAE(n):\n",
        "  try:\n",
        "   n=int(n)\n",
        "   if n<=0:\n",
        "    raise ValueError()\n",
        "  except ValueError:\n",
        "    print(\"Giá trị phải là số nguyên dương\")\n",
        "    return None;\n",
        "  y=[]\n",
        "  y_pred=[]\n",
        "  MAE_result = 0\n",
        "  for i in range(n):\n",
        "    y.append(random.randint(0,10))\n",
        "    y_pred.append(random.randint(0,10))\n",
        "    MAE_result  += abs(y[i]-y_pred[i])\n",
        "  MAE_result /= n\n",
        "  return MAE_result;"
      ],
      "metadata": {
        "id": "bzd8ILz9GZEP"
      },
      "execution_count": 6,
      "outputs": []
    },
    {
      "cell_type": "code",
      "source": [
        "\n",
        "  n = input(\"Nhập số lượng phần tử n: \")\n",
        "  result = MAE(n)\n",
        "  if result is not None:\n",
        "      print(\"Mean Absolute Error (MAE):\", result);\n"
      ],
      "metadata": {
        "colab": {
          "base_uri": "https://localhost:8080/"
        },
        "id": "XodoBHc7XIjs",
        "outputId": "c1e3dcc3-a570-4715-eab6-3023aa58a2a5"
      },
      "execution_count": 7,
      "outputs": [
        {
          "output_type": "stream",
          "name": "stdout",
          "text": [
            "Nhập số lượng phần tử n: 3\n",
            "Mean Absolute Error (MAE): 2.0\n"
          ]
        }
      ]
    },
    {
      "cell_type": "code",
      "source": [
        "def mae(y, y_pred):\n",
        "  return y-y_pred\n",
        "def mse(y,y_pred):\n",
        "  return (y-y_pred)**2\n"
      ],
      "metadata": {
        "id": "c2hTYkIggxlQ"
      },
      "execution_count": 12,
      "outputs": []
    },
    {
      "cell_type": "code",
      "source": [
        "import random\n",
        "while True:\n",
        "  n = input(\"Nhập số lượng sample:\")\n",
        "  if n.isnumeric():\n",
        "    loss = input(\"Nhập Hàm cần tính loss: \")\n",
        "    result = 0\n",
        "    for i in range(int(n)):\n",
        "      y= random.randint(0,10)\n",
        "      y_pred=random.randint(0,10)\n",
        "      if loss == \"MAE\":\n",
        "        x=mae(y,y_pred)\n",
        "        result += x\n",
        "        print(f'loss name : {loss}, sample : {i}, pred : {y_pred}, target : {y}, loss : {x}')\n",
        "      if loss == \"MSE\":\n",
        "        x=mse(y,y_pred)\n",
        "        result += x\n",
        "        print(f'loss name : {loss}, sample : {i}, pred : {y_pred}, target : {y}, loss : {x}')\n",
        "      if loss == \"RMSE\":\n",
        "        x=math.sqrt(mse(y,y_pred))\n",
        "\n",
        "  else:\n",
        "    print(\"Số lượng Sample phải là số nguyên dương\");"
      ],
      "metadata": {
        "id": "hHiZai0gjoMy",
        "outputId": "307f817f-288a-458c-9359-6fceaf290ab6",
        "colab": {
          "base_uri": "https://localhost:8080/",
          "height": 547
        }
      },
      "execution_count": 13,
      "outputs": [
        {
          "output_type": "stream",
          "name": "stdout",
          "text": [
            "Nhập số lượng sample:4\n",
            "Nhập Hàm cần tính loss: MAE\n",
            "loss name : MAE, sample : 0, pred : 5, target : 6, loss : 1\n",
            "loss name : MAE, sample : 1, pred : 1, target : 1, loss : 0\n",
            "loss name : MAE, sample : 2, pred : 4, target : 10, loss : 6\n",
            "loss name : MAE, sample : 3, pred : 2, target : 4, loss : 2\n",
            "Nhập số lượng sample:-4\n",
            "Số lượng Sample phải là số nguyên dương\n",
            "Nhập số lượng sample:f\n",
            "Số lượng Sample phải là số nguyên dương\n"
          ]
        },
        {
          "output_type": "error",
          "ename": "KeyboardInterrupt",
          "evalue": "Interrupted by user",
          "traceback": [
            "\u001b[0;31m---------------------------------------------------------------------------\u001b[0m",
            "\u001b[0;31mKeyboardInterrupt\u001b[0m                         Traceback (most recent call last)",
            "\u001b[0;32m<ipython-input-13-8e6b5efabdc3>\u001b[0m in \u001b[0;36m<cell line: 2>\u001b[0;34m()\u001b[0m\n\u001b[1;32m      1\u001b[0m \u001b[0;32mimport\u001b[0m \u001b[0mrandom\u001b[0m\u001b[0;34m\u001b[0m\u001b[0;34m\u001b[0m\u001b[0m\n\u001b[1;32m      2\u001b[0m \u001b[0;32mwhile\u001b[0m \u001b[0;32mTrue\u001b[0m\u001b[0;34m:\u001b[0m\u001b[0;34m\u001b[0m\u001b[0;34m\u001b[0m\u001b[0m\n\u001b[0;32m----> 3\u001b[0;31m   \u001b[0mn\u001b[0m \u001b[0;34m=\u001b[0m \u001b[0minput\u001b[0m\u001b[0;34m(\u001b[0m\u001b[0;34m\"Nhập số lượng sample:\"\u001b[0m\u001b[0;34m)\u001b[0m\u001b[0;34m\u001b[0m\u001b[0;34m\u001b[0m\u001b[0m\n\u001b[0m\u001b[1;32m      4\u001b[0m   \u001b[0;32mif\u001b[0m \u001b[0mn\u001b[0m\u001b[0;34m.\u001b[0m\u001b[0misnumeric\u001b[0m\u001b[0;34m(\u001b[0m\u001b[0;34m)\u001b[0m\u001b[0;34m:\u001b[0m\u001b[0;34m\u001b[0m\u001b[0;34m\u001b[0m\u001b[0m\n\u001b[1;32m      5\u001b[0m     \u001b[0mloss\u001b[0m \u001b[0;34m=\u001b[0m \u001b[0minput\u001b[0m\u001b[0;34m(\u001b[0m\u001b[0;34m\"Nhập Hàm cần tính loss: \"\u001b[0m\u001b[0;34m)\u001b[0m\u001b[0;34m\u001b[0m\u001b[0;34m\u001b[0m\u001b[0m\n",
            "\u001b[0;32m/usr/local/lib/python3.10/dist-packages/ipykernel/kernelbase.py\u001b[0m in \u001b[0;36mraw_input\u001b[0;34m(self, prompt)\u001b[0m\n\u001b[1;32m    849\u001b[0m                 \u001b[0;34m\"raw_input was called, but this frontend does not support input requests.\"\u001b[0m\u001b[0;34m\u001b[0m\u001b[0;34m\u001b[0m\u001b[0m\n\u001b[1;32m    850\u001b[0m             )\n\u001b[0;32m--> 851\u001b[0;31m         return self._input_request(str(prompt),\n\u001b[0m\u001b[1;32m    852\u001b[0m             \u001b[0mself\u001b[0m\u001b[0;34m.\u001b[0m\u001b[0m_parent_ident\u001b[0m\u001b[0;34m,\u001b[0m\u001b[0;34m\u001b[0m\u001b[0;34m\u001b[0m\u001b[0m\n\u001b[1;32m    853\u001b[0m             \u001b[0mself\u001b[0m\u001b[0;34m.\u001b[0m\u001b[0m_parent_header\u001b[0m\u001b[0;34m,\u001b[0m\u001b[0;34m\u001b[0m\u001b[0;34m\u001b[0m\u001b[0m\n",
            "\u001b[0;32m/usr/local/lib/python3.10/dist-packages/ipykernel/kernelbase.py\u001b[0m in \u001b[0;36m_input_request\u001b[0;34m(self, prompt, ident, parent, password)\u001b[0m\n\u001b[1;32m    893\u001b[0m             \u001b[0;32mexcept\u001b[0m \u001b[0mKeyboardInterrupt\u001b[0m\u001b[0;34m:\u001b[0m\u001b[0;34m\u001b[0m\u001b[0;34m\u001b[0m\u001b[0m\n\u001b[1;32m    894\u001b[0m                 \u001b[0;31m# re-raise KeyboardInterrupt, to truncate traceback\u001b[0m\u001b[0;34m\u001b[0m\u001b[0;34m\u001b[0m\u001b[0m\n\u001b[0;32m--> 895\u001b[0;31m                 \u001b[0;32mraise\u001b[0m \u001b[0mKeyboardInterrupt\u001b[0m\u001b[0;34m(\u001b[0m\u001b[0;34m\"Interrupted by user\"\u001b[0m\u001b[0;34m)\u001b[0m \u001b[0;32mfrom\u001b[0m \u001b[0;32mNone\u001b[0m\u001b[0;34m\u001b[0m\u001b[0;34m\u001b[0m\u001b[0m\n\u001b[0m\u001b[1;32m    896\u001b[0m             \u001b[0;32mexcept\u001b[0m \u001b[0mException\u001b[0m \u001b[0;32mas\u001b[0m \u001b[0me\u001b[0m\u001b[0;34m:\u001b[0m\u001b[0;34m\u001b[0m\u001b[0;34m\u001b[0m\u001b[0m\n\u001b[1;32m    897\u001b[0m                 \u001b[0mself\u001b[0m\u001b[0;34m.\u001b[0m\u001b[0mlog\u001b[0m\u001b[0;34m.\u001b[0m\u001b[0mwarning\u001b[0m\u001b[0;34m(\u001b[0m\u001b[0;34m\"Invalid Message:\"\u001b[0m\u001b[0;34m,\u001b[0m \u001b[0mexc_info\u001b[0m\u001b[0;34m=\u001b[0m\u001b[0;32mTrue\u001b[0m\u001b[0;34m)\u001b[0m\u001b[0;34m\u001b[0m\u001b[0;34m\u001b[0m\u001b[0m\n",
            "\u001b[0;31mKeyboardInterrupt\u001b[0m: Interrupted by user"
          ]
        }
      ]
    },
    {
      "cell_type": "markdown",
      "source": [],
      "metadata": {
        "id": "nw0k6V99Gd4s"
      }
    }
  ]
}