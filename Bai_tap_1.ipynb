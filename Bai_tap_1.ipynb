{
  "nbformat": 4,
  "nbformat_minor": 0,
  "metadata": {
    "colab": {
      "provenance": [],
      "authorship_tag": "ABX9TyOhHEup471lGhNj5fUaBIWY",
      "include_colab_link": true
    },
    "kernelspec": {
      "name": "python3",
      "display_name": "Python 3"
    },
    "language_info": {
      "name": "python"
    }
  },
  "cells": [
    {
      "cell_type": "markdown",
      "metadata": {
        "id": "view-in-github",
        "colab_type": "text"
      },
      "source": [
        "<a href=\"https://colab.research.google.com/github/hungpx2008/Python-learning/blob/B%C3%A0i-t%E1%BA%ADp-AIO/Bai_tap_1.ipynb\" target=\"_parent\"><img src=\"https://colab.research.google.com/assets/colab-badge.svg\" alt=\"Open In Colab\"/></a>"
      ]
    },
    {
      "cell_type": "code",
      "execution_count": 1,
      "metadata": {
        "id": "nVKVL2sk5M8Y"
      },
      "outputs": [],
      "source": [
        "#1.Viết function thực hiện đánh giá classification model bằng F1-Score.\n",
        "def danh_gia_Classification_F1Score(tp,fp,fn):\n",
        "    if not (isinstance(tp,int) and isinstance(fp,int) and isinstance(fn,int)):\n",
        "        raise TypeError(\"tp,fp,và fn phải là một số nguyên\")\n",
        "    if tp<=0 or fp <=0 or fn<=0:\n",
        "        raise ValueError(\"tp,fp,và fn phải lớn hơn 0\")\n",
        "    raise ValueError(\"tp,fp,và fn phải lớn hơn 0\")\n",
        "    try:\n",
        "      precision = tp/(tp+fp)\n",
        "      recall = tp/(tp+fn)\n",
        "      f1_score = 2 * precision * recall / (precision + recall)\n",
        "    except ZerodivisionError:\n",
        "      raise ZeroDivisionError(\"Không thể tính F1-score khi precision hoặc recall bằng 0\");\n",
        "    print(f\"Precision: {precision:.2f}\")\n",
        "    print(f\"Recall: {recall:.2f}\")\n",
        "    print(f\"F1-score: {f1_score:.2f}\")"
      ]
    },
    {
      "cell_type": "code",
      "source": [
        "#2.Viết function mô phỏng theo 3 activation function.\n",
        "def check_number (x):\n",
        "  try:\n",
        "    float(x)\n",
        "    return True\n",
        "  except ValueError:\n",
        "    return False\n"
      ],
      "metadata": {
        "id": "fqzr7t2o6mPb"
      },
      "execution_count": 2,
      "outputs": []
    },
    {
      "cell_type": "code",
      "source": [
        "def check_funtion (y):\n",
        "  try:\n",
        "    if (y == \"e\" or y ==\"s\" or y ==\"r\"):\n",
        "      return True\n",
        "  except ValueError:\n",
        "      return False\n"
      ],
      "metadata": {
        "id": "C-rXeouCKtmw"
      },
      "execution_count": 3,
      "outputs": []
    },
    {
      "cell_type": "code",
      "source": [
        "import math\n",
        "def sigmoid(x):\n",
        "  return 1/(1+(math.e)**(-float(x)));\n",
        "def ReLU(x):\n",
        "  if float(x)<=0:\n",
        "   return 0\n",
        "  else:\n",
        "   return float(x);\n",
        "def eLU(x):\n",
        "  while True:\n",
        "        try:\n",
        "            alpha = float(input(\"Nhập alpha: \"))\n",
        "            break\n",
        "        except ValueError:\n",
        "            print(\"Alpha phải ở dạng số . Vui lòng nhập lại.\")\n",
        "\n",
        "  try:\n",
        "      x = float(x)\n",
        "  except ValueError:\n",
        "      print(\"Giá trị x phải ở dạng số.\")\n",
        "      return False\n",
        "  if x <= 0:\n",
        "      return alpha * (math.exp(x) - 1)\n",
        "  else:\n",
        "      return x\n",
        "\n",
        "\n"
      ],
      "metadata": {
        "id": "ZpNC5JpMM7u1"
      },
      "execution_count": 4,
      "outputs": []
    },
    {
      "cell_type": "code",
      "source": [
        "while True:\n",
        "  x= input(\"Nhập giá trị x:\")\n",
        "  if check_number(x):\n",
        "    break\n",
        "  else:\n",
        "    print(\" Giá trị nhập phải là số. Vui lòng nhập lại\");\n",
        "while True:\n",
        "  y= input(\"Nhập giá trị y:\")\n",
        "  if check_funtion (y):\n",
        "    if y==\"s\":\n",
        "      print(\"Kết quả sigmoid:\",sigmoid(x))\n",
        "      break\n",
        "    elif y==\"e\":\n",
        "      print(\"Kết quả eLU:\",eLU(x))\n",
        "      break\n",
        "    else:\n",
        "      print(\"Kết quả ReLU:\",ReLU(x))\n",
        "      break\n",
        "  else:\n",
        "      print(\"Chỉ được nhập các ký tự (s,r,e).Vui lòng nhập lại\");"
      ],
      "metadata": {
        "colab": {
          "base_uri": "https://localhost:8080/"
        },
        "id": "iTGr8jnCSHTX",
        "outputId": "12685d7d-9269-4850-8900-a139ab459327"
      },
      "execution_count": 5,
      "outputs": [
        {
          "output_type": "stream",
          "name": "stdout",
          "text": [
            "Nhập giá trị x:2\n",
            "Nhập giá trị y:3\n",
            "Chỉ được nhập các ký tự (s,r,e).Vui lòng nhập lại\n",
            "Nhập giá trị y:r\n",
            "Kết quả ReLU: 2.0\n"
          ]
        }
      ]
    },
    {
      "cell_type": "code",
      "source": [
        "# 3.Viết function lựa chọn regression loss function để tính loss:\n",
        "import random\n",
        "def MAE(n):\n",
        "  try:\n",
        "   n=int(n)\n",
        "   if n<=0:\n",
        "    raise ValueError()\n",
        "  except ValueError:\n",
        "    print(\"Giá trị phải là số nguyên dương\")\n",
        "    return None;\n",
        "  y=[]\n",
        "  y_pred=[]\n",
        "  MAE_result = 0\n",
        "  for i in range(n):\n",
        "    y.append(random.randint(0,10))\n",
        "    y_pred.append(random.randint(0,10))\n",
        "    MAE_result  += abs(y[i]-y_pred[i])\n",
        "  MAE_result /= n\n",
        "  return MAE_result;"
      ],
      "metadata": {
        "id": "bzd8ILz9GZEP"
      },
      "execution_count": 6,
      "outputs": []
    },
    {
      "cell_type": "code",
      "source": [
        "\n",
        "  n = input(\"Nhập số lượng phần tử n: \")\n",
        "  result = MAE(n)\n",
        "  if result is not None:\n",
        "      print(\"Mean Absolute Error (MAE):\", result);\n"
      ],
      "metadata": {
        "colab": {
          "base_uri": "https://localhost:8080/"
        },
        "id": "XodoBHc7XIjs",
        "outputId": "be7dc16d-c4cb-45f7-a5e2-e3d36f3727ea"
      },
      "execution_count": 7,
      "outputs": [
        {
          "output_type": "stream",
          "name": "stdout",
          "text": [
            "Nhập số lượng phần tử n: 6\n",
            "Mean Absolute Error (MAE): 3.0\n"
          ]
        }
      ]
    },
    {
      "cell_type": "code",
      "source": [
        "def mae(y, y_pred):\n",
        "  return y-y_pred\n",
        "def mse(y,y_pred):\n",
        "  return (y-y_pred)**2\n"
      ],
      "metadata": {
        "id": "c2hTYkIggxlQ"
      },
      "execution_count": 8,
      "outputs": []
    },
    {
      "cell_type": "code",
      "source": [
        "import random\n",
        "while True:\n",
        "  n = input(\"Nhập số lượng sample:\")\n",
        "  if n.isnumeric():\n",
        "    loss = input(\"Nhập Hàm cần tính loss: \")\n",
        "    result = 0\n",
        "    for i in range(int(n)):\n",
        "      y= random.randint(0,10)\n",
        "      y_pred=random.randint(0,10)\n",
        "      if loss == \"MAE\":\n",
        "        x=mae(y,y_pred)\n",
        "        result += x\n",
        "        print(f'loss name : {loss}, sample : {i}, pred : {y_pred}, target : {y}, loss : {x}')\n",
        "      if loss == \"MSE\":\n",
        "        x=mse(y,y_pred)\n",
        "        result += x\n",
        "        print(f'loss name : {loss}, sample : {i}, pred : {y_pred}, target : {y}, loss : {x}')\n",
        "      if loss == \"RMSE\":\n",
        "        x=math.sqrt(mse(y,y_pred))\n",
        "        print(f'loss name : {loss}, sample : {i}, pred : {y_pred}, target : {y}, loss : {x}')\n",
        "        result += x\n",
        "    result /= int(n)\n",
        "    print(f\"Loss: {result}\")\n",
        "    break\n",
        "  else:\n",
        "    print(\"Số lượng Sample phải là số nguyên dương\");"
      ],
      "metadata": {
        "id": "hHiZai0gjoMy",
        "outputId": "a228e988-72d8-4032-b000-5a330ccc94fa",
        "colab": {
          "base_uri": "https://localhost:8080/"
        }
      },
      "execution_count": 11,
      "outputs": [
        {
          "output_type": "stream",
          "name": "stdout",
          "text": [
            "Nhập số lượng sample:^\n",
            "Số lượng Sample phải là số nguyên dương\n",
            "Nhập số lượng sample:6\n",
            "Nhập Hàm cần tính loss: RMSE\n",
            "loss name : RMSE, sample : 0, pred : 3, target : 9, loss : 6.0\n",
            "loss name : RMSE, sample : 1, pred : 7, target : 8, loss : 1.0\n",
            "loss name : RMSE, sample : 2, pred : 4, target : 4, loss : 0.0\n",
            "loss name : RMSE, sample : 3, pred : 8, target : 8, loss : 0.0\n",
            "loss name : RMSE, sample : 4, pred : 9, target : 1, loss : 8.0\n",
            "loss name : RMSE, sample : 5, pred : 6, target : 9, loss : 3.0\n",
            "Loss: 3.0\n"
          ]
        }
      ]
    },
    {
      "cell_type": "code",
      "source": [
        "#4.  Viết 4 functions để ước lượng các hàm số\n",
        "def sin(x,n):\n",
        "  sinx=0\n",
        "  for i in range(n):\n",
        "    sinx += (-1)**i * x**(2*i+1) / math.factorial(2*i+1)\n",
        "  return sinx\n",
        "def cos(x,n):\n",
        "  cosx=0\n",
        "  for i in range(n):\n",
        "    cosx += (-1)**i * x**(2*i) / math.factorial(2*i)\n",
        "  return cosx\n",
        "def sinh(x,n):\n",
        "  sinhx=0\n",
        "  for i in range(n):\n",
        "    sinhx += x**(2*i+1)/(math.factorial(2*i+1))\n",
        "  return sinhx\n",
        "def cosh(x,n):\n",
        "  coshx=0\n",
        "  for i in range(n):\n",
        "    coshx += x**(2*i)/(math.factorial(2*i))\n",
        "  return coshx\n"
      ],
      "metadata": {
        "id": "hbNZJ-Zw0ZZT"
      },
      "execution_count": 39,
      "outputs": []
    },
    {
      "cell_type": "code",
      "source": [
        "import math\n",
        "x = float(input(\"Nhập giá trị x: \"))\n",
        "n = int(input(\"Nhập giá trị sample: \"))\n",
        "if n<=0:\n",
        "    print(\"Giá trị n phải là số nguyên dương\")\n",
        "else:\n",
        "  print(f\"sin({x}) = {sin(x,n)}\")\n",
        "  print(f\"cos({x}) = {cos(x,n)}\")\n",
        "  print(f\"sinh({x}) = {sinh(x,n)}\")\n",
        "  print(f\"cosh({x}) = {cosh(x,n)}\")"
      ],
      "metadata": {
        "colab": {
          "base_uri": "https://localhost:8080/"
        },
        "id": "1iGkC8vO4LDG",
        "outputId": "df792eb3-5b9b-496b-f03b-d7c903fe98d7"
      },
      "execution_count": 40,
      "outputs": [
        {
          "output_type": "stream",
          "name": "stdout",
          "text": [
            "Nhập giá trị x: 3.14\n",
            "Nhập giá trị n: 10\n",
            "sin(3.14) = 0.001592652393160744\n",
            "cos(3.14) = -0.9999987352210833\n",
            "sinh(3.14) = 11.530292029865986\n",
            "cosh(3.14) = 11.573574824666185\n"
          ]
        }
      ]
    },
    {
      "cell_type": "code",
      "source": [
        "#5.Viết function thực hiện Mean Difference of root Error\n",
        "def MD_nRE(n,y,y_pred,p):\n",
        "  md_nre_single_sample = (y**1/n - y_pred**1/n)**p\n",
        "  return md_nre_single_sample\n"
      ],
      "metadata": {
        "id": "WjasmA_LWEVl"
      },
      "execution_count": 45,
      "outputs": []
    },
    {
      "cell_type": "code",
      "source": [
        "\n",
        "while True:\n",
        "  try:\n",
        "    y= float(input(\"Giá trị của y:\"))\n",
        "    y_pred= float(input(\"Giá trị của y_pred:\"))\n",
        "    n= int(input(\"Giá trị của n:\"))\n",
        "    p= int(input(\"Giá trị của p:\"))\n",
        "    result = MD_nRE(n,y,y_pred,p)\n",
        "    print(f\"md_nre_single_sample : {result}\")\n",
        "    escape = input(\"Bạn có muốn tiếp tục không? (y/n): \")\n",
        "    if escape == \"y\":\n",
        "      continue\n",
        "    else:\n",
        "      break\n",
        "  except ValueError:\n",
        "    print(\"Vui lòng nhập lại các giá trị hợp lệ.\")\n",
        "\n"
      ],
      "metadata": {
        "id": "Fuvcc8nynY9B",
        "outputId": "e5fb4523-2441-4b7e-c3cd-9747b8c228ae",
        "colab": {
          "base_uri": "https://localhost:8080/"
        }
      },
      "execution_count": 56,
      "outputs": [
        {
          "name": "stdout",
          "output_type": "stream",
          "text": [
            "Giá trị của y:100\n",
            "Giá trị của y_pred:99.5\n",
            "Giá trị của n:2\n",
            "Giá trị của p:1\n",
            "md_nre_single_sample : 0.25\n",
            "Bạn có muốn tiếp tục không? (y/n): n\n"
          ]
        }
      ]
    },
    {
      "cell_type": "code",
      "source": [],
      "metadata": {
        "id": "YYBzImWTbluR"
      },
      "execution_count": null,
      "outputs": []
    },
    {
      "cell_type": "markdown",
      "source": [],
      "metadata": {
        "id": "nw0k6V99Gd4s"
      }
    }
  ]
}