{
  "nbformat": 4,
  "nbformat_minor": 0,
  "metadata": {
    "colab": {
      "provenance": [],
      "authorship_tag": "ABX9TyPO9bZO+GgH9R+Qlt42ldpE",
      "include_colab_link": true
    },
    "kernelspec": {
      "name": "python3",
      "display_name": "Python 3"
    },
    "language_info": {
      "name": "python"
    }
  },
  "cells": [
    {
      "cell_type": "markdown",
      "metadata": {
        "id": "view-in-github",
        "colab_type": "text"
      },
      "source": [
        "<a href=\"https://colab.research.google.com/github/hungpx2008/Python-learning/blob/main/Bai_tap_1.ipynb\" target=\"_parent\"><img src=\"https://colab.research.google.com/assets/colab-badge.svg\" alt=\"Open In Colab\"/></a>"
      ]
    },
    {
      "cell_type": "code",
      "execution_count": 4,
      "metadata": {
        "id": "nVKVL2sk5M8Y"
      },
      "outputs": [],
      "source": [
        "def danh_gia_Classification_F1Score(tp,fp,fn):\n",
        "    if not (isinstance(tp,int) and isinstance(fp,int) and isinstance(fn,int)):\n",
        "        raise TypeError(\"tp,fp,và fn phải là một số nguyên\")\n",
        "    if tp<=0 or fp <=0 or fn<=0:\n",
        "        raise ValueError(\"tp,fp,và fn phải lớn hơn 0\")\n",
        "    raise ValueError(\"tp,fp,và fn phải lớn hơn 0\")\n",
        "    try:\n",
        "      precision = tp/(tp+fp)\n",
        "      recall = tp/(tp+fn)\n",
        "      f1_score = 2 * precision * recall / (precision + recall)\n",
        "    except ZerodivisionError:\n",
        "      raise ZeroDivisionError(\"Không thể tính F1-score khi precision hoặc recall bằng 0\");\n",
        "    print(f\"Precision: {precision:.2f}\")\n",
        "    print(f\"Recall: {recall:.2f}\")\n",
        "    print(f\"F1-score: {f1_score:.2f}\")"
      ]
    },
    {
      "cell_type": "code",
      "source": [
        "def check_number (x):\n",
        "  try:\n",
        "    float(x)\n",
        "    return True\n",
        "  except ValueError:\n",
        "    return False\n",
        "while True:\n",
        "  x= input(\"Nhập giá trị x:\")\n",
        "  if check_number(x):\n",
        "    break\n",
        "  else:\n",
        "    print(\" Giá trị nhập phải là số. Vui lòng nhập lại\");\n",
        "\n",
        "\n",
        "\n",
        ""
      ],
      "metadata": {
        "colab": {
          "base_uri": "https://localhost:8080/"
        },
        "id": "fqzr7t2o6mPb",
        "outputId": "94554b8b-b2b3-45e3-ceed-adfc9b4799cc"
      },
      "execution_count": 14,
      "outputs": [
        {
          "name": "stdout",
          "output_type": "stream",
          "text": [
            "Nhập giá trị x:2\n"
          ]
        }
      ]
    },
    {
      "cell_type": "code",
      "source": [
        "def check_funtion (y):\n",
        "  try:\n",
        "    if (y == \"e\" or y ==\"s\" or y ==\"r\"):\n",
        "      return True\n",
        "  except ValueError:\n",
        "      return False\n",
        "while True:\n",
        "  y= input(\"Nhập activation function:(s- sigmoid,r- relu,e- elu):\")\n",
        "  if check_funtion (y):\n",
        "    break\n",
        "  else:\n",
        "    print(\"Chỉ được nhập các ký tự (s- sigmoid,r- relu,e- elu).Vui lòng nhập lại\");"
      ],
      "metadata": {
        "colab": {
          "base_uri": "https://localhost:8080/"
        },
        "id": "C-rXeouCKtmw",
        "outputId": "b9cc79a2-eb60-418d-e910-4688a3b5d12d"
      },
      "execution_count": 18,
      "outputs": [
        {
          "name": "stdout",
          "output_type": "stream",
          "text": [
            "Nhập activation function:(s- sigmoid,r- relu,e- elu):g\n",
            "Chỉ được nhập các ký tự (s- sigmoid,r- relu,e- elu)\n",
            "Nhập activation function:(s- sigmoid,r- relu,e- elu):s\n"
          ]
        }
      ]
    }
  ]
}