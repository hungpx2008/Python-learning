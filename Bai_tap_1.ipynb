{
  "nbformat": 4,
  "nbformat_minor": 0,
  "metadata": {
    "colab": {
      "provenance": [],
      "authorship_tag": "ABX9TyOvFsuO9+T2jRqLYwRvb9QH",
      "include_colab_link": true
    },
    "kernelspec": {
      "name": "python3",
      "display_name": "Python 3"
    },
    "language_info": {
      "name": "python"
    }
  },
  "cells": [
    {
      "cell_type": "markdown",
      "metadata": {
        "id": "view-in-github",
        "colab_type": "text"
      },
      "source": [
        "<a href=\"https://colab.research.google.com/github/hungpx2008/Python-learning/blob/B%C3%A0i-t%E1%BA%ADp-AIO/Bai_tap_1.ipynb\" target=\"_parent\"><img src=\"https://colab.research.google.com/assets/colab-badge.svg\" alt=\"Open In Colab\"/></a>"
      ]
    },
    {
      "cell_type": "code",
      "execution_count": 1,
      "metadata": {
        "id": "nVKVL2sk5M8Y"
      },
      "outputs": [],
      "source": [
        "#1.Viết function thực hiện đánh giá classification model bằng F1-Score.\n",
        "def danh_gia_Classification_F1Score(tp,fp,fn):\n",
        "    if not (isinstance(tp,int) and isinstance(fp,int) and isinstance(fn,int)):\n",
        "        raise TypeError(\"tp,fp,và fn phải là một số nguyên\")\n",
        "    if tp<=0 or fp <=0 or fn<=0:\n",
        "        raise ValueError(\"tp,fp,và fn phải lớn hơn 0\")\n",
        "    raise ValueError(\"tp,fp,và fn phải lớn hơn 0\")\n",
        "    try:\n",
        "      precision = tp/(tp+fp)\n",
        "      recall = tp/(tp+fn)\n",
        "      f1_score = 2 * precision * recall / (precision + recall)\n",
        "    except ZerodivisionError:\n",
        "      raise ZeroDivisionError(\"Không thể tính F1-score khi precision hoặc recall bằng 0\");\n",
        "    print(f\"Precision: {precision:.2f}\")\n",
        "    print(f\"Recall: {recall:.2f}\")\n",
        "    print(f\"F1-score: {f1_score:.2f}\")"
      ]
    },
    {
      "cell_type": "code",
      "source": [
        "#2.Viết function mô phỏng theo 3 activation function.\n",
        "def check_number (x):\n",
        "  try:\n",
        "    float(x)\n",
        "    return True\n",
        "  except ValueError:\n",
        "    return False\n",
        ""
      ],
      "metadata": {
        "id": "fqzr7t2o6mPb"
      },
      "execution_count": 2,
      "outputs": []
    },
    {
      "cell_type": "code",
      "source": [
        "def check_funtion (y):\n",
        "  try:\n",
        "    if (y == \"e\" or y ==\"s\" or y ==\"r\"):\n",
        "      return True\n",
        "  except ValueError:\n",
        "      return False\n"
      ],
      "metadata": {
        "id": "C-rXeouCKtmw"
      },
      "execution_count": 3,
      "outputs": []
    },
    {
      "cell_type": "code",
      "source": [
        "import math\n",
        "def sigmoid(x):\n",
        "  return 1/(1+(math.e)**(-float(x)));\n",
        "def ReLU(x):\n",
        "  if float(x)<=0:\n",
        "   return 0\n",
        "  else:\n",
        "   return float(x);\n",
        "def eLU(x):\n",
        "  while True:\n",
        "        try:\n",
        "            alpha = float(input(\"Nhập alpha: \"))\n",
        "            break\n",
        "        except ValueError:\n",
        "            print(\"Alpha phải ở dạng số . Vui lòng nhập lại.\")\n",
        "\n",
        "  try:\n",
        "      x = float(x)\n",
        "  except ValueError:\n",
        "      print(\"Giá trị x phải ở dạng số.\")\n",
        "      return False\n",
        "  if x <= 0:\n",
        "      return alpha * (math.exp(x) - 1)\n",
        "  else:\n",
        "      return x\n",
        "\n",
        "\n",
        ""
      ],
      "metadata": {
        "id": "ZpNC5JpMM7u1"
      },
      "execution_count": 15,
      "outputs": []
    },
    {
      "cell_type": "code",
      "source": [
        "while True:\n",
        "  x= input(\"Nhập giá trị x:\")\n",
        "  if check_number(x):\n",
        "    break\n",
        "  else:\n",
        "    print(\" Giá trị nhập phải là số. Vui lòng nhập lại\");\n",
        "while True:\n",
        "  y= input(\"Nhập giá trị y:\")\n",
        "  if check_funtion (y):\n",
        "    if y==\"s\":\n",
        "      print(\"Kết quả sigmoid:\",sigmoid(x))\n",
        "      break\n",
        "    elif y==\"e\":\n",
        "      print(\"Kết quả eLU:\",eLU(x))\n",
        "      break\n",
        "    else:\n",
        "      print(\"Kết quả ReLU:\",ReLU(x))\n",
        "      break\n",
        "  else:\n",
        "      print(\"Chỉ được nhập các ký tự (s,r,e).Vui lòng nhập lại\");"
      ],
      "metadata": {
        "colab": {
          "base_uri": "https://localhost:8080/"
        },
        "id": "iTGr8jnCSHTX",
        "outputId": "8df8f8ce-fcc1-46c2-da12-80178dbcbe81"
      },
      "execution_count": 17,
      "outputs": [
        {
          "output_type": "stream",
          "name": "stdout",
          "text": [
            "Nhập giá trị x:7\n",
            "Nhập giá trị y:e\n",
            "Nhập alpha: hhh\n",
            "Alpha phải ở dạng số . Vui lòng nhập lại.\n",
            "Nhập alpha: 1\n",
            "Kết quả eLU: 7.0\n"
          ]
        }
      ]
    },
    {
      "cell_type": "code",
      "source": [
        "# 3.Viết function lựa chọn regression loss function để tính loss:\n",
        "import random\n",
        "def MAE(n):\n",
        "  try:\n",
        "   n=int(n)\n",
        "   if n<=0:\n",
        "    raise ValueError()\n",
        "  except ValueError:\n",
        "    print(\"Giá trị phải là số nguyên dương\")\n",
        "    return None;\n",
        "  y=[]\n",
        "  y_pred=[]\n",
        "  MAE_result = 0\n",
        "  for i in range(n):\n",
        "    y.append(random.randint(0,10))\n",
        "    y_pred.append(random.randint(0,10))\n",
        "    MAE_result  += abs(y[i]-y_pred[i])\n",
        "  MAE_result /= n\n",
        "  return MAE_result;"
      ],
      "metadata": {
        "id": "bzd8ILz9GZEP"
      },
      "execution_count": 55,
      "outputs": []
    },
    {
      "cell_type": "code",
      "source": [
        "\n",
        "  n = input(\"Nhập số lượng phần tử n: \")\n",
        "  result = MAE(n)\n",
        "  if result is not None:\n",
        "      print(\"Mean Absolute Error (MAE):\", result);\n"
      ],
      "metadata": {
        "colab": {
          "base_uri": "https://localhost:8080/"
        },
        "id": "XodoBHc7XIjs",
        "outputId": "07e0ccbe-233a-4fe0-e1a8-15e1a4048bac"
      },
      "execution_count": 56,
      "outputs": [
        {
          "output_type": "stream",
          "name": "stdout",
          "text": [
            "Nhập số lượng phần tử n: -1\n",
            "Giá trị phải là số nguyên dương\n"
          ]
        }
      ]
    },
    {
      "cell_type": "markdown",
      "source": [],
      "metadata": {
        "id": "nw0k6V99Gd4s"
      }
    }
  ]
}