{
  "nbformat": 4,
  "nbformat_minor": 0,
  "metadata": {
    "colab": {
      "provenance": [],
      "authorship_tag": "ABX9TyOodGbyip11iup93HgWm6tg",
      "include_colab_link": true
    },
    "kernelspec": {
      "name": "python3",
      "display_name": "Python 3"
    },
    "language_info": {
      "name": "python"
    }
  },
  "cells": [
    {
      "cell_type": "markdown",
      "metadata": {
        "id": "view-in-github",
        "colab_type": "text"
      },
      "source": [
        "<a href=\"https://colab.research.google.com/github/hungpx2008/Python-learning/blob/main/%C4%91%C3%A1nh%20gi%C3%A1%20classification%20model%20b%E1%BA%B1ng%20F1-Score..ipynb\" target=\"_parent\"><img src=\"https://colab.research.google.com/assets/colab-badge.svg\" alt=\"Open In Colab\"/></a>"
      ]
    },
    {
      "cell_type": "code",
      "execution_count": 4,
      "metadata": {
        "id": "nVKVL2sk5M8Y"
      },
      "outputs": [],
      "source": [
        "def danh_gia_Classification_F1Score(tp,fp,fn):\n",
        "    if not (isinstance(tp,int) and isinstance(fp,int) and isinstance(fn,int)):\n",
        "        raise TypeError(\"tp,fp,và fn phải là một số nguyên\")\n",
        "    if tp<=0 or fp <=0 or fn<=0:\n",
        "        raise ValueError(\"tp,fp,và fn phải lớn hơn 0\")\n",
        "    raise ValueError(\"tp,fp,và fn phải lớn hơn 0\")\n",
        "    try:\n",
        "      precision = tp/(tp+fp)\n",
        "      recall = tp/(tp+fn)\n",
        "      f1_score = 2 * precision * recall / (precision + recall)\n",
        "    except ZerodivisionError:\n",
        "      raise ZeroDivisionError(\"Không thể tính F1-score khi precision hoặc recall bằng 0\");\n",
        "    print(f\"Precision: {precision:.2f}\")\n",
        "    print(f\"Recall: {recall:.2f}\")\n",
        "    print(f\"F1-score: {f1_score:.2f}\")"
      ]
    }
  ]
}