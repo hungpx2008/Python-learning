{
  "nbformat": 4,
  "nbformat_minor": 0,
  "metadata": {
    "colab": {
      "provenance": [],
      "authorship_tag": "ABX9TyM8ce8cFGuapPax+MJlMeQ5",
      "include_colab_link": true
    },
    "kernelspec": {
      "name": "python3",
      "display_name": "Python 3"
    },
    "language_info": {
      "name": "python"
    }
  },
  "cells": [
    {
      "cell_type": "markdown",
      "metadata": {
        "id": "view-in-github",
        "colab_type": "text"
      },
      "source": [
        "<a href=\"https://colab.research.google.com/github/hungpx2008/Python-learning/blob/main/ClassAndObject.ipynb\" target=\"_parent\"><img src=\"https://colab.research.google.com/assets/colab-badge.svg\" alt=\"Open In Colab\"/></a>"
      ]
    },
    {
      "cell_type": "code",
      "execution_count": 2,
      "metadata": {
        "id": "Wz4t8aHpc7mp"
      },
      "outputs": [],
      "source": [
        "class sach:\n",
        "  def __init__(self, ten_sach, tac_gia, nam_xuat_ban,gia):\n",
        "      self.ten_sach = ten_sach\n",
        "      self.tac_gia = tac_gia\n",
        "      self.nam_xuat_ban = nam_xuat_ban\n",
        "      self.gia = gia\n",
        "  def thong_tin_sach(self):\n",
        "      print(\"Tên sách:\", self.ten_sach)\n",
        "      print(\"Tác giả:\", self.tac_gia)\n",
        "      print(\"Năm xuất bản:\", self.nam_xuat_ban)\n",
        "      print(\"Giá:\", self.gia)\n",
        "  def thay_doi_gia(self,gia_thay_doi):\n",
        "       self.gia += gia_thay_doi\n",
        "       print(\"Giá thay đổi:\", self.gia)\n"
      ]
    },
    {
      "cell_type": "code",
      "source": [
        "sach_python = sach(\"Lập trình Python\", \"Nguyễn Văn A\", 2024, 150000)\n",
        "sach_python.thong_tin_sach()\n",
        "gia_thay_doi = 50000\n",
        "sach_python.thay_doi_gia(gia_thay_doi)"
      ],
      "metadata": {
        "colab": {
          "base_uri": "https://localhost:8080/"
        },
        "id": "Z1kWCfbzfk4x",
        "outputId": "b075e455-3a98-429c-cd31-f8ac324e5970"
      },
      "execution_count": 3,
      "outputs": [
        {
          "output_type": "stream",
          "name": "stdout",
          "text": [
            "Tên sách: Lập trình Python\n",
            "Tác giả: Nguyễn Văn A\n",
            "Năm xuất bản: 2024\n",
            "Giá: 150000\n",
            "Giá thay đổi: 200000\n"
          ]
        }
      ]
    },
    {
      "cell_type": "code",
      "source": [
        "gia_thay_doi = 30000\n",
        "sach_python.thay_doi_gia(gia_thay_doi)"
      ],
      "metadata": {
        "colab": {
          "base_uri": "https://localhost:8080/"
        },
        "id": "s4A4XCgPgths",
        "outputId": "16884ddb-8f45-428d-f439-f93fd7a6a7ff"
      },
      "execution_count": 4,
      "outputs": [
        {
          "output_type": "stream",
          "name": "stdout",
          "text": [
            "Giá thay đổi: 230000\n"
          ]
        }
      ]
    },
    {
      "cell_type": "code",
      "source": [
        "class thu_vien:\n",
        "  def __init__(self,danh_sach_sach):\n",
        "    self.danh_sach_sach = danh_sach_sach\n",
        "  def them_sach(self,ten_sach):\n",
        "    self.danh_sach_sach.append(ten_sach)\n",
        "  def xoa_sach(self,ten_sach):\n",
        "        self.danh_sach_sach.pop(ten_sach)\n",
        "  def tim_kiem_sach(self,ten_sach):\n",
        "    for ten_sach in self.danh_sach_sach:\n",
        "      if ten_sach in self.danh_sach_sach:\n",
        "       print(f\"Sách {self.ten_sach} có trong thư viện \")\n",
        "    else:\n",
        "       print(f\"Sách {self.ten_sach} không có trong thư viện \")\n",
        "  def hien_thi_sach(self):\n",
        "    print(\"Danh sách sách trong thư viện:\")\n",
        "    for sach in self.danh_sach_sach:\n",
        "      sach.thong_tin_sach()\n"
      ],
      "metadata": {
        "id": "nbV5WmwZqmsA"
      },
      "execution_count": 14,
      "outputs": []
    },
    {
      "cell_type": "code",
      "source": [
        "ThuVien = thu_vien([])\n",
        "sach1= sach(\"Lập trình Python1\", \"Nguyễn Văn B\", 2024, 150000)\n",
        "sach2= sach(\"Lập trình Python2\", \"Nguyễn Văn C\", 2024, 150000)\n",
        "sach3= sach(\"Lập trình Python3\", \"Nguyễn Văn D\", 2024, 150000)\n",
        "sach4= sach(\"Lập trình Python4\", \"Nguyễn Văn E\", 2024, 150000)\n",
        "ThuVien.them_sach(sach1)\n",
        "ThuVien.them_sach(sach2)\n",
        "ThuVien.them_sach(sach3)\n",
        "ThuVien.them_sach(sach4)\n",
        "ThuVien.hien_thi_sach()\n"
      ],
      "metadata": {
        "id": "c54Zrul5sQ5I"
      },
      "execution_count": null,
      "outputs": []
    },
    {
      "cell_type": "code",
      "source": [
        "ThuVien.tim_kiem_sach(\"Lập trình python3\")"
      ],
      "metadata": {
        "colab": {
          "base_uri": "https://localhost:8080/",
          "height": 263
        },
        "id": "hbIAinA7txP5",
        "outputId": "cff50b1f-8a13-4120-a1ba-d6ad4a0fedf6"
      },
      "execution_count": 16,
      "outputs": [
        {
          "output_type": "error",
          "ename": "AttributeError",
          "evalue": "'thu_vien' object has no attribute 'ten_sach'",
          "traceback": [
            "\u001b[0;31m---------------------------------------------------------------------------\u001b[0m",
            "\u001b[0;31mAttributeError\u001b[0m                            Traceback (most recent call last)",
            "\u001b[0;32m<ipython-input-16-6521f3e14814>\u001b[0m in \u001b[0;36m<cell line: 1>\u001b[0;34m()\u001b[0m\n\u001b[0;32m----> 1\u001b[0;31m \u001b[0mThuVien\u001b[0m\u001b[0;34m.\u001b[0m\u001b[0mtim_kiem_sach\u001b[0m\u001b[0;34m(\u001b[0m\u001b[0;34m\"Lập trình python3\"\u001b[0m\u001b[0;34m)\u001b[0m\u001b[0;34m\u001b[0m\u001b[0;34m\u001b[0m\u001b[0m\n\u001b[0m",
            "\u001b[0;32m<ipython-input-14-8f5aff307f49>\u001b[0m in \u001b[0;36mtim_kiem_sach\u001b[0;34m(self, ten_sach)\u001b[0m\n\u001b[1;32m      9\u001b[0m     \u001b[0;32mfor\u001b[0m \u001b[0mten_sach\u001b[0m \u001b[0;32min\u001b[0m \u001b[0mself\u001b[0m\u001b[0;34m.\u001b[0m\u001b[0mdanh_sach_sach\u001b[0m\u001b[0;34m:\u001b[0m\u001b[0;34m\u001b[0m\u001b[0;34m\u001b[0m\u001b[0m\n\u001b[1;32m     10\u001b[0m       \u001b[0;32mif\u001b[0m \u001b[0mten_sach\u001b[0m \u001b[0;32min\u001b[0m \u001b[0mself\u001b[0m\u001b[0;34m.\u001b[0m\u001b[0mdanh_sach_sach\u001b[0m\u001b[0;34m:\u001b[0m\u001b[0;34m\u001b[0m\u001b[0;34m\u001b[0m\u001b[0m\n\u001b[0;32m---> 11\u001b[0;31m        \u001b[0mprint\u001b[0m\u001b[0;34m(\u001b[0m\u001b[0;34mf\"Sách {self.ten_sach} có trong thư viện \"\u001b[0m\u001b[0;34m)\u001b[0m\u001b[0;34m\u001b[0m\u001b[0;34m\u001b[0m\u001b[0m\n\u001b[0m\u001b[1;32m     12\u001b[0m     \u001b[0;32melse\u001b[0m\u001b[0;34m:\u001b[0m\u001b[0;34m\u001b[0m\u001b[0;34m\u001b[0m\u001b[0m\n\u001b[1;32m     13\u001b[0m        \u001b[0mprint\u001b[0m\u001b[0;34m(\u001b[0m\u001b[0;34mf\"Sách {self.ten_sach} không có trong thư viện \"\u001b[0m\u001b[0;34m)\u001b[0m\u001b[0;34m\u001b[0m\u001b[0;34m\u001b[0m\u001b[0m\n",
            "\u001b[0;31mAttributeError\u001b[0m: 'thu_vien' object has no attribute 'ten_sach'"
          ]
        }
      ]
    }
  ]
}