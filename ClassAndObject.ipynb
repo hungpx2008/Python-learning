{
  "nbformat": 4,
  "nbformat_minor": 0,
  "metadata": {
    "colab": {
      "provenance": [],
      "authorship_tag": "ABX9TyOlOi6kxKwexbVFPiF/aYg5",
      "include_colab_link": true
    },
    "kernelspec": {
      "name": "python3",
      "display_name": "Python 3"
    },
    "language_info": {
      "name": "python"
    }
  },
  "cells": [
    {
      "cell_type": "markdown",
      "metadata": {
        "id": "view-in-github",
        "colab_type": "text"
      },
      "source": [
        "<a href=\"https://colab.research.google.com/github/hungpx2008/Python-learning/blob/main/ClassAndObject.ipynb\" target=\"_parent\"><img src=\"https://colab.research.google.com/assets/colab-badge.svg\" alt=\"Open In Colab\"/></a>"
      ]
    },
    {
      "cell_type": "code",
      "execution_count": 8,
      "metadata": {
        "id": "Wz4t8aHpc7mp"
      },
      "outputs": [],
      "source": [
        "class sach:\n",
        "  def __init__(self, ten_sach, tac_gia, nam_xuat_ban,gia):\n",
        "      self.ten_sach = ten_sach\n",
        "      self.tac_gia = tac_gia\n",
        "      self.nam_xuat_ban = nam_xuat_ban\n",
        "      self.gia = gia\n",
        "  def thong_tin_sach(self):\n",
        "      print(\"Tên sách:\", self.ten_sach)\n",
        "      print(\"Tác giả:\", self.tac_gia)\n",
        "      print(\"Năm xuất bản:\", self.nam_xuat_ban)\n",
        "      print(\"Giá:\", self.gia)\n",
        "  def thay_doi_gia(self,gia_thay_doi):\n",
        "       self.gia += gia_thay_doi\n",
        "       print(\"Giá thay đổi:\", self.gia)\n"
      ]
    },
    {
      "cell_type": "code",
      "source": [
        "sach_python = sach(\"Lập trình Python\", \"Nguyễn Văn A\", 2024, 150000)\n",
        "sach_python.thong_tin_sach()\n",
        "gia_thay_doi = 50000\n",
        "sach_python.thay_doi_gia(gia_thay_doi)"
      ],
      "metadata": {
        "colab": {
          "base_uri": "https://localhost:8080/"
        },
        "id": "Z1kWCfbzfk4x",
        "outputId": "b794682c-7605-4c34-f701-b24ac43031c7"
      },
      "execution_count": 14,
      "outputs": [
        {
          "output_type": "stream",
          "name": "stdout",
          "text": [
            "Tên sách: Lập trình Python\n",
            "Tác giả: Nguyễn Văn A\n",
            "Năm xuất bản: 2024\n",
            "Giá: 150000\n",
            "Giá thay đổi: 200000\n"
          ]
        }
      ]
    },
    {
      "cell_type": "code",
      "source": [
        "gia_thay_doi = 30000\n",
        "sach_python.thay_doi_gia(gia_thay_doi)"
      ],
      "metadata": {
        "colab": {
          "base_uri": "https://localhost:8080/"
        },
        "id": "s4A4XCgPgths",
        "outputId": "4b2fa143-d756-46e1-e4ec-3f1b5695c812"
      },
      "execution_count": 17,
      "outputs": [
        {
          "output_type": "stream",
          "name": "stdout",
          "text": [
            "Giá thay đổi: 290000\n"
          ]
        }
      ]
    },
    {
      "cell_type": "code",
      "source": [
        "class thu_vien:\n",
        "  def __init__(self,danh_sach_sach):\n",
        "    self.danh_sach_sach = danh_sach_sach\n",
        "  def them_sach(self,ten_sach):\n",
        "    self.danh_sach_sach.append(ten_sach)\n",
        "  def xoa_sach(self,ten_sach):\n",
        "        self.danh_sach_sach.pop(ten_sach)\n",
        "  def tim_kiem_sach(self,ten_sach):\n",
        "    if ten_sach in self.danh_sach_sach:\n",
        "       print(f\"Sách {self.ten_sach} có trong thư viện \")\n",
        "    else:\n",
        "       print(f\"Sách {self.ten_sach} không có trong thư viện \")\n",
        "  def hien_thi_sach(self,danh_sach_sach):\n",
        "    print(\"Danh sách sách trong thư viện:\")\n",
        "    for sach in self.danh_sach_sach:\n",
        "      print(sach)\n"
      ],
      "metadata": {
        "id": "nbV5WmwZqmsA"
      },
      "execution_count": 19,
      "outputs": []
    },
    {
      "cell_type": "code",
      "source": [
        "thu_vien=Thuvien()\n",
        "sach1= sach(\"Lập trình Python1\", \"Nguyễn Văn B\", 2024, 150000)\n",
        "sach2= sach(\"Lập trình Python2\", \"Nguyễn Văn C\", 2024, 150000)\n",
        "sach3= sach(\"Lập trình Python3\", \"Nguyễn Văn D\", 2024, 150000)\n",
        "sach4= sach(\"Lập trình Python4\", \"Nguyễn Văn E\", 2024, 150000)"
      ],
      "metadata": {
        "colab": {
          "base_uri": "https://localhost:8080/",
          "height": 141
        },
        "id": "c54Zrul5sQ5I",
        "outputId": "ff5bffbc-d247-4ed0-85e3-65105b42eb96"
      },
      "execution_count": 21,
      "outputs": [
        {
          "output_type": "error",
          "ename": "NameError",
          "evalue": "name 'self' is not defined",
          "traceback": [
            "\u001b[0;31m---------------------------------------------------------------------------\u001b[0m",
            "\u001b[0;31mNameError\u001b[0m                                 Traceback (most recent call last)",
            "\u001b[0;32m<ipython-input-21-67ef386f3102>\u001b[0m in \u001b[0;36m<cell line: 1>\u001b[0;34m()\u001b[0m\n\u001b[0;32m----> 1\u001b[0;31m \u001b[0mthem\u001b[0m \u001b[0;34m=\u001b[0m \u001b[0mself\u001b[0m\u001b[0;34m.\u001b[0m\u001b[0mthem_sach\u001b[0m\u001b[0;34m(\u001b[0m\u001b[0;34m\"Lập trình Java\"\u001b[0m\u001b[0;34m)\u001b[0m\u001b[0;34m\u001b[0m\u001b[0;34m\u001b[0m\u001b[0m\n\u001b[0m",
            "\u001b[0;31mNameError\u001b[0m: name 'self' is not defined"
          ]
        }
      ]
    }
  ]
}